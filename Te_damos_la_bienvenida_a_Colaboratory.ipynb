{
  "cells": [
    {
      "cell_type": "markdown",
      "source": [],
      "metadata": {
        "id": "UHBDRZUm2Imw"
      }
    },
    {
      "cell_type": "markdown",
      "source": [
        "punto 1"
      ],
      "metadata": {
        "id": "RZcjBvfZxCBE"
      }
    },
    {
      "cell_type": "code",
      "source": [
        "import itertools\n",
        "numeros = list(range(1, 101))\n",
        "\n",
        "\n",
        "divisibles = [num for num in numeros if num % 5 == 0 or num % 8 == 0]\n",
        "\n",
        "\n",
        "print(f\"Total de números divisibles entre 5 o 8: {len(divisibles)}\")"
      ],
      "metadata": {
        "id": "WGPnJei2xEtr"
      },
      "execution_count": null,
      "outputs": []
    },
    {
      "cell_type": "markdown",
      "source": [
        "punto 2"
      ],
      "metadata": {
        "id": "hJApnlZEyBIQ"
      }
    },
    {
      "cell_type": "code",
      "source": [
        "import itertools\n",
        "\n",
        "\n",
        "personas = ['P1', 'P2', 'P3', 'P4', 'P5']\n",
        "\n",
        "\n",
        "combinaciones = list(itertools.combinations(personas, 3))\n",
        "\n",
        "print(f\"Total de equipos diferentes: {len(combinaciones)}\")"
      ],
      "metadata": {
        "id": "9vo0CucfyCL8",
        "outputId": "2d3c4645-92c5-44aa-e832-6f025314b1fc",
        "colab": {
          "base_uri": "https://localhost:8080/"
        }
      },
      "execution_count": 6,
      "outputs": [
        {
          "output_type": "stream",
          "name": "stdout",
          "text": [
            "Total de equipos diferentes: 10\n"
          ]
        }
      ]
    },
    {
      "cell_type": "markdown",
      "source": [
        "punto 3"
      ],
      "metadata": {
        "id": "J5bz27eQzJNr"
      }
    },
    {
      "cell_type": "code",
      "source": [
        "import itertools\n",
        "objetos = ['A', 'B', 'C']\n",
        "\n",
        "permutaciones = list(itertools.permutations(objetos, 3))\n",
        "\n",
        "print(f\"Total de permutaciones: {len(permutaciones)}\")\n"
      ],
      "metadata": {
        "id": "BYdGrCMUzK42",
        "outputId": "28b2d5bf-3471-48ee-ca1b-ef6cbd0faa23",
        "colab": {
          "base_uri": "https://localhost:8080/"
        }
      },
      "execution_count": 8,
      "outputs": [
        {
          "output_type": "stream",
          "name": "stdout",
          "text": [
            "Total de permutaciones: 6\n",
            "Permutaciones:\n"
          ]
        }
      ]
    },
    {
      "cell_type": "markdown",
      "source": [
        "punto 4"
      ],
      "metadata": {
        "id": "JbH1qFTczcdN"
      }
    },
    {
      "cell_type": "code",
      "source": [
        "import itertools\n",
        "\n",
        "cartas = list(range(1, 53))\n",
        "\n",
        "combinaciones = list(itertools.combinations(cartas, 4))\n",
        "\n",
        "print(f\"Total de combinaciones diferentes: {len(combinaciones)}\")\n"
      ],
      "metadata": {
        "id": "Byp4Tp5XzeEq",
        "outputId": "8100a21e-bce5-4fe0-bb42-d7a8195cdac6",
        "colab": {
          "base_uri": "https://localhost:8080/"
        }
      },
      "execution_count": 9,
      "outputs": [
        {
          "output_type": "stream",
          "name": "stdout",
          "text": [
            "Total de combinaciones diferentes: 270725\n"
          ]
        }
      ]
    },
    {
      "cell_type": "markdown",
      "source": [
        "punto 5"
      ],
      "metadata": {
        "id": "p_MsNcfqzs2x"
      }
    },
    {
      "cell_type": "code",
      "source": [
        "import itertools\n",
        "\n",
        "banderas = ['R'] * 4 + ['B'] * 3 + ['A'] * 1\n",
        "\n",
        "permutaciones = set(itertools.permutations(banderas))\n",
        "\n",
        "print(f\"Total de señas diferentes: {len(permutaciones)}\")\n"
      ],
      "metadata": {
        "id": "RcLxgiCXzt2F",
        "outputId": "da2d173e-3cf9-4715-a67b-117d1dbaab8f",
        "colab": {
          "base_uri": "https://localhost:8080/"
        }
      },
      "execution_count": 10,
      "outputs": [
        {
          "output_type": "stream",
          "name": "stdout",
          "text": [
            "Total de señas diferentes: 280\n"
          ]
        }
      ]
    },
    {
      "cell_type": "markdown",
      "source": [
        "punto 6"
      ],
      "metadata": {
        "id": "NLnclp-s0BfY"
      }
    },
    {
      "cell_type": "code",
      "source": [
        "import itertools\n",
        "import math\n",
        "\n",
        "bloques = 3\n",
        "formas_bloques = math.factorial(bloques)\n",
        "\n",
        "formas_matematicas = math.factorial(4)\n",
        "formas_fisica = math.factorial(6)\n",
        "formas_quimica = math.factorial(2)\n",
        "\n",
        "total_formas = formas_bloques * formas_matematicas * formas_fisica * formas_quimica\n",
        "\n",
        "print(f\"Total de formas de ordenar los libros (cada asignatura junta): {total_formas}\")\n",
        "\n",
        "\n",
        "\n",
        "elementos = 7\n",
        "formas_elementos = math.factorial(elementos)\n",
        "\n",
        "\n",
        "formas_matematicas = math.factorial(4)\n",
        "\n",
        "\n",
        "total_formas = formas_elementos * formas_matematicas\n",
        "\n",
        "print(f\"Total de formas de ordenar los libros (solo matemáticas juntas): {total_formas}\")\n",
        "\n"
      ],
      "metadata": {
        "id": "U6phR1FX0DWH",
        "outputId": "b3045d48-0dc7-4110-941e-653b15e42ca8",
        "colab": {
          "base_uri": "https://localhost:8080/"
        }
      },
      "execution_count": 13,
      "outputs": [
        {
          "output_type": "stream",
          "name": "stdout",
          "text": [
            "Total de formas de ordenar los libros (cada asignatura junta): 207360\n",
            "Total de formas de ordenar los libros (solo matemáticas juntas): 120960\n"
          ]
        }
      ]
    },
    {
      "cell_type": "markdown",
      "source": [
        "punto 7"
      ],
      "metadata": {
        "id": "nSmP1M9s0hrd"
      }
    },
    {
      "cell_type": "code",
      "source": [
        "import itertools\n",
        "\n",
        "empleados = list(range(1, 16))\n",
        "\n",
        "total_combinaciones = 0\n",
        "\n",
        "for r in range(3, 16):\n",
        "    combinaciones = list(itertools.combinations(empleados, r))\n",
        "    total_combinaciones += len(combinaciones)\n",
        "\n",
        "print(f\"Total de formas de elegir de 3 a 15 empleados: {total_combinaciones}\")\n"
      ],
      "metadata": {
        "id": "fiVgV4yf0jcj",
        "outputId": "35d2309c-5c33-4304-fcf1-febf58d8606b",
        "colab": {
          "base_uri": "https://localhost:8080/"
        }
      },
      "execution_count": 14,
      "outputs": [
        {
          "output_type": "stream",
          "name": "stdout",
          "text": [
            "Total de formas de elegir de 3 a 15 empleados: 32647\n"
          ]
        }
      ]
    },
    {
      "cell_type": "markdown",
      "source": [
        "punto 8"
      ],
      "metadata": {
        "id": "sFUqJ3hD03P4"
      }
    },
    {
      "cell_type": "code",
      "source": [
        "import itertools\n",
        "\n",
        "trabajadores = list(range(1, 19))\n",
        "\n",
        "combinaciones = list(itertools.combinations(trabajadores, 12))\n",
        "\n",
        "print(f\"Total de formas de elegir 12 de 18 trabajadores: {len(combinaciones)}\")\n"
      ],
      "metadata": {
        "id": "4Dko42EC047J",
        "outputId": "5b892bc7-a7c7-4b23-e7cf-1245bbd4794e",
        "colab": {
          "base_uri": "https://localhost:8080/"
        }
      },
      "execution_count": 15,
      "outputs": [
        {
          "output_type": "stream",
          "name": "stdout",
          "text": [
            "Total de formas de elegir 12 de 18 trabajadores: 18564\n"
          ]
        }
      ]
    },
    {
      "cell_type": "markdown",
      "source": [
        "punto 9"
      ],
      "metadata": {
        "id": "KZ06eZZc1Ei4"
      }
    },
    {
      "cell_type": "code",
      "source": [
        "import itertools\n",
        "\n",
        "personas = list(range(1, 10))\n",
        "\n",
        "combinaciones = list(itertools.combinations(personas, 4))\n",
        "\n",
        "print(f\"Total de comités de 4 personas que se pueden formar con 9 personas: {len(combinaciones)}\")\n"
      ],
      "metadata": {
        "id": "3kiBlZJk1Fsn",
        "outputId": "a24f721a-52c0-4aa2-8dc4-5697e23c1af7",
        "colab": {
          "base_uri": "https://localhost:8080/"
        }
      },
      "execution_count": 16,
      "outputs": [
        {
          "output_type": "stream",
          "name": "stdout",
          "text": [
            "Total de comités de 4 personas que se pueden formar con 9 personas: 126\n"
          ]
        }
      ]
    },
    {
      "cell_type": "markdown",
      "source": [
        "punto 10"
      ],
      "metadata": {
        "id": "Ou1xy4O_1SDO"
      }
    },
    {
      "cell_type": "code",
      "source": [
        "import itertools\n",
        "\n",
        "hombres = list(range(1, 8))\n",
        "mujeres = list(range(8, 13))\n",
        "\n",
        "combinaciones_hombres = list(itertools.combinations(hombres, 3))\n",
        "\n",
        "combinaciones_mujeres = list(itertools.combinations(mujeres, 2))\n",
        "\n",
        "total_combinaciones = len(combinaciones_hombres) * len(combinaciones_mujeres)\n",
        "\n",
        "print(f\"Total de maneras de escoger un comité de 3 hombres y 2 mujeres: {total_combinaciones}\")\n"
      ],
      "metadata": {
        "id": "gB_q-KtH1QRX",
        "outputId": "330a9a03-e1bb-4aba-fa34-a25d00ff60b1",
        "colab": {
          "base_uri": "https://localhost:8080/"
        }
      },
      "execution_count": 17,
      "outputs": [
        {
          "output_type": "stream",
          "name": "stdout",
          "text": [
            "Total de maneras de escoger un comité de 3 hombres y 2 mujeres: 350\n"
          ]
        }
      ]
    },
    {
      "cell_type": "markdown",
      "source": [
        "punto 11"
      ],
      "metadata": {
        "id": "mp59yYJ21gQf"
      }
    },
    {
      "cell_type": "code",
      "source": [
        "import itertools\n",
        "\n",
        "\n",
        "technoarquitectos = list(range(1, 6))\n",
        "arquitectos_magicos = list(range(6, 13))\n",
        "\n",
        "\n",
        "combinaciones_technoarquitectos = list(itertools.combinations(technoarquitectos, 2))\n",
        "\n",
        "\n",
        "combinaciones_arquitectos_magicos = list(itertools.combinations(arquitectos_magicos, 3))\n",
        "\n",
        "\n",
        "total_combinaciones = len(combinaciones_technoarquitectos) * len(combinaciones_arquitectos_magicos)\n",
        "\n",
        "print(f\"Total de formas de formar el comité (cualquier technoarquitecto y arquitecto mágico): {total_combinaciones}\")\n",
        "\n",
        "arquitecto_magico_determinado = 6\n",
        "\n",
        "\n",
        "arquitectos_magicos_restantes = [x for x in arquitectos_magicos if x != arquitecto_magico_determinado]\n",
        "\n",
        "\n",
        "combinaciones_arquitectos_magicos_restantes = list(itertools.combinations(arquitectos_magicos_restantes, 2))\n",
        "\n",
        "total_combinaciones_determinado = len(combinaciones_technoarquitectos) * len(combinaciones_arquitectos_magicos_restantes)\n",
        "\n",
        "print(f\"Total de formas de formar el comité (arquitecto mágico determinado incluido): {total_combinaciones_determinado}\")\n",
        "technoarquitectos_determinados = [1, 2]\n",
        "\n",
        "technoarquitectos_restantes = [x for x in technoarquitectos if x not in technoarquitectos_determinados]\n",
        "\n",
        "\n",
        "combinaciones_technoarquitectos_restantes = list(itertools.combinations(technoarquitectos_restantes, 2))\n",
        "\n",
        "\n",
        "total_combinaciones_excluidos = len(combinaciones_technoarquitectos_restantes) * len(combinaciones_arquitectos_magicos)\n",
        "\n",
        "print(f\"Total de formas de formar el comité (excluyendo dos technoarquitectos determinados): {total_combinaciones_excluidos}\")\n"
      ],
      "metadata": {
        "id": "lkngkh013Scw",
        "outputId": "5de2f4cc-d48d-4797-ff74-9a7a1dbac0d6",
        "colab": {
          "base_uri": "https://localhost:8080/"
        }
      },
      "execution_count": 20,
      "outputs": [
        {
          "output_type": "stream",
          "name": "stdout",
          "text": [
            "Total de formas de formar el comité (cualquier technoarquitecto y arquitecto mágico): 350\n",
            "Total de formas de formar el comité (arquitecto mágico determinado incluido): 150\n",
            "Total de formas de formar el comité (excluyendo dos technoarquitectos determinados): 105\n"
          ]
        }
      ]
    },
    {
      "cell_type": "markdown",
      "source": [
        "punto 12"
      ],
      "metadata": {
        "id": "E4rSnsiP3mkv"
      }
    },
    {
      "cell_type": "code",
      "source": [
        "import itertools\n",
        "\n",
        "consonantes = list(range(1, 8))\n",
        "vocales = list(range(8, 13))\n",
        "\n",
        "combinaciones_consonantes = list(itertools.combinations(consonantes, 4))\n",
        "combinaciones_vocales = list(itertools.combinations(vocales, 3))\n",
        "\n",
        "total_combinaciones = len(combinaciones_consonantes) * len(combinaciones_vocales)\n",
        "\n",
        "print(f\"Total de palabras posibles: {total_combinaciones}\")\n"
      ],
      "metadata": {
        "id": "7Nr0nyWQ3n79",
        "outputId": "70250ad7-60d0-48e7-e71d-a264586a91b5",
        "colab": {
          "base_uri": "https://localhost:8080/"
        }
      },
      "execution_count": 21,
      "outputs": [
        {
          "output_type": "stream",
          "name": "stdout",
          "text": [
            "Total de palabras posibles: 350\n"
          ]
        }
      ]
    },
    {
      "cell_type": "markdown",
      "source": [
        "punto 13"
      ],
      "metadata": {
        "id": "QlX7FF4h30aN"
      }
    },
    {
      "cell_type": "code",
      "source": [
        "import itertools\n",
        "import math\n",
        "\n",
        "alumnos = list(range(1, 41))\n",
        "\n",
        "permutaciones = list(itertools.permutations(alumnos, 4))\n",
        "total_permutaciones = len(permutaciones)\n",
        "\n",
        "combinaciones = list(itertools.combinations(alumnos, 4))\n",
        "total_combinaciones = len(combinaciones)\n",
        "\n",
        "print(f\"Total de permutaciones de 4 alumnos de un grupo de 40: {total_permutaciones}\")\n",
        "print(f\"Total de combinaciones de 4 alumnos de un grupo de 40: {total_combinaciones}\")\n"
      ],
      "metadata": {
        "id": "H39Qmexf32Ad",
        "outputId": "5ea2beac-aa72-4de6-ec1c-8347426752e2",
        "colab": {
          "base_uri": "https://localhost:8080/"
        }
      },
      "execution_count": 22,
      "outputs": [
        {
          "output_type": "stream",
          "name": "stdout",
          "text": [
            "Total de permutaciones de 4 alumnos de un grupo de 40: 2193360\n",
            "Total de combinaciones de 4 alumnos de un grupo de 40: 91390\n"
          ]
        }
      ]
    },
    {
      "cell_type": "markdown",
      "source": [
        "punto 14"
      ],
      "metadata": {
        "id": "bJ5GVXNB4I9d"
      }
    },
    {
      "cell_type": "code",
      "source": [
        "import itertools\n",
        "\n",
        "libros = list(range(1, 4))\n",
        "\n",
        "permutaciones = list(itertools.permutations(libros, 2))\n",
        "\n",
        "print(f\"Total de maneras de ordenar 3 libros escogiendo 2 a la vez: {len(permutaciones)}\")\n"
      ],
      "metadata": {
        "id": "5832VUCr4Kuc",
        "outputId": "7d5dfefe-aaf0-45e5-e03b-021e3a504599",
        "colab": {
          "base_uri": "https://localhost:8080/"
        }
      },
      "execution_count": 23,
      "outputs": [
        {
          "output_type": "stream",
          "name": "stdout",
          "text": [
            "Total de maneras de ordenar 3 libros escogiendo 2 a la vez: 6\n"
          ]
        }
      ]
    },
    {
      "cell_type": "markdown",
      "source": [
        "punto 15"
      ],
      "metadata": {
        "id": "GttsjHGk4WLZ"
      }
    },
    {
      "cell_type": "code",
      "source": [
        "import itertools\n",
        "\n",
        "tiendas = list(range(1, 6))\n",
        "\n",
        "combinaciones = list(itertools.combinations(tiendas, 3))\n",
        "\n",
        "print(f\"Total de maneras de seleccionar 3 de las 5 tiendas: {len(combinaciones)}\")\n"
      ],
      "metadata": {
        "id": "ZCWAKwVf4XWs",
        "outputId": "d128ac76-6e1c-4d43-dc7b-9dac91a0cc48",
        "colab": {
          "base_uri": "https://localhost:8080/"
        }
      },
      "execution_count": 24,
      "outputs": [
        {
          "output_type": "stream",
          "name": "stdout",
          "text": [
            "Total de maneras de seleccionar 3 de las 5 tiendas: 10\n"
          ]
        }
      ]
    },
    {
      "cell_type": "markdown",
      "source": [
        "los archivos estan subidos en la carpetan de archivos"
      ],
      "metadata": {
        "id": "1Ts9E0-84kb2"
      }
    }
  ],
  "metadata": {
    "colab": {
      "name": "Te damos la bienvenida a Colaboratory",
      "provenance": []
    },
    "kernelspec": {
      "display_name": "Python 3",
      "name": "python3"
    }
  },
  "nbformat": 4,
  "nbformat_minor": 0
}